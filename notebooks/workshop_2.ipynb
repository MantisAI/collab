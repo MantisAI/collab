{
 "cells": [
  {
   "cell_type": "code",
   "execution_count": 1,
   "metadata": {},
   "outputs": [
    {
     "name": "stdout",
     "output_type": "stream",
     "text": [
      "4.45.1\n",
      "1.50.2\n",
      "3.0.1\n",
      "1.5.2\n"
     ]
    }
   ],
   "source": [
    "import transformers\n",
    "import openai\n",
    "import datasets\n",
    "import sklearn\n",
    "import nltk\n",
    "import seaborn\n",
    "import numpy\n",
    "import langdetect\n",
    "import torch\n",
    "from dotenv import load_dotenv\n",
    "import spacy\n",
    "import sentencepiece\n",
    "import setfit\n",
    "import jupyter\n",
    "\n",
    "print(transformers.__version__)\n",
    "print(openai.__version__)\n",
    "print(datasets.__version__)\n",
    "print(sklearn.__version__)\n",
    "\n"
   ]
  },
  {
   "cell_type": "code",
   "execution_count": null,
   "metadata": {},
   "outputs": [],
   "source": []
  }
 ],
 "metadata": {
  "kernelspec": {
   "display_name": "Python 3 (ipykernel)",
   "language": "python",
   "name": "python3"
  },
  "language_info": {
   "codemirror_mode": {
    "name": "ipython",
    "version": 3
   },
   "file_extension": ".py",
   "mimetype": "text/x-python",
   "name": "python",
   "nbconvert_exporter": "python",
   "pygments_lexer": "ipython3",
   "version": "3.10.15"
  }
 },
 "nbformat": 4,
 "nbformat_minor": 2
}
